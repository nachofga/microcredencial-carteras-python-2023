{
 "cells": [
  {
   "cell_type": "code",
   "execution_count": null,
   "id": "9f1580d3",
   "metadata": {},
   "outputs": [],
   "source": [
    "import numpy as np\n",
    "import pandas as pd\n",
    "import yfinance as yf\n",
    "import seaborn as sns\n",
    "import matplotlib.pyplot as plt"
   ]
  },
  {
   "cell_type": "markdown",
   "id": "6d2f1910",
   "metadata": {},
   "source": [
    "## Ejercicio 1 [5.0 puntos]"
   ]
  },
  {
   "cell_type": "markdown",
   "id": "2b8c21c9",
   "metadata": {},
   "source": [
    "Dados los valores de los precios de tres activos en el fichero en la ruta `filepath`, analiza cuál sería el activo en el que invertirías y añade la justificación de la decisión."
   ]
  },
  {
   "cell_type": "code",
   "execution_count": null,
   "id": "c1c62b21",
   "metadata": {},
   "outputs": [],
   "source": [
    "filepath = \"https://raw.githubusercontent.com/alfonso-santos/microcredencial-carteras-python-2023/main/datos_practicas/datos_ejercicio1.csv\"\n"
   ]
  },
  {
   "cell_type": "markdown",
   "id": "566b7049",
   "metadata": {},
   "source": [
    "---"
   ]
  },
  {
   "cell_type": "markdown",
   "id": "6761e91e",
   "metadata": {},
   "source": [
    "## Ejercicio 2 [5.0 puntos]"
   ]
  },
  {
   "cell_type": "markdown",
   "id": "a71f5709",
   "metadata": {},
   "source": [
    "Dada la siguiente lista de tickers de activos `[\"IEF\", \"AAPL\", \"BA\", \"JPM\", \"TGT\", \"F\"]`, descarga los precios de cierre ajustados diarios a partir del 1 de enero de 2020 y calcula la cartera formada por dos de los activos de forma que sea la de menor riesgo. Justifica la respuesta."
   ]
  },
  {
   "cell_type": "code",
   "execution_count": null,
   "id": "eb3c3482",
   "metadata": {},
   "outputs": [],
   "source": []
  }
 ],
 "metadata": {
  "kernelspec": {
   "display_name": "Python 3 (ipykernel)",
   "language": "python",
   "name": "python3"
  },
  "language_info": {
   "codemirror_mode": {
    "name": "ipython",
    "version": 3
   },
   "file_extension": ".py",
   "mimetype": "text/x-python",
   "name": "python",
   "nbconvert_exporter": "python",
   "pygments_lexer": "ipython3",
   "version": "3.11.5"
  }
 },
 "nbformat": 4,
 "nbformat_minor": 5
}
